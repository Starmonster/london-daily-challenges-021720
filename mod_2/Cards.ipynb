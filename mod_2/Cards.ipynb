{
 "cells": [
  {
   "cell_type": "markdown",
   "metadata": {},
   "source": [
    "# Probability \n",
    "\n",
    "A standard deck of playing cards consists of 52 cards in each of the four suits of spades, hearts, diamonds, and clubs. Each suit contains 13 cards: Ace, 2, 3, 4, 5, 6, 7, 8, 9, 10, Jack, Queen, and King.\n",
    "\n",
    "You have a standard deck of 52 cards and are asked the following questions:\n",
    "\n",
    "Question 1: What is the probability of drawing a King or a Queen?\n",
    "\n",
    "Question 2: What is the probability of drawing an Ace followed by a club?\n",
    "\n",
    "Question 3: What is the probability of drawing a red card, then a black card, then red card?\n",
    "\n",
    "Question 4: How many possible 5-card combinations can be formed with this deck of 52 cards?\n",
    "\n",
    "Show all your work and thinking in Python!"
   ]
  },
  {
   "cell_type": "markdown",
   "metadata": {},
   "source": [
    "QUESTION 1:"
   ]
  },
  {
   "cell_type": "markdown",
   "metadata": {},
   "source": [
    "\n",
    "clubs = {\"Ac\",\"2c\",\"3c\",\"4c\",\"5c\",\"6c\",\"7c\",\"8c\",\"9c\",\"10c\",\"Jc\",\"Qc\",\"Kc\"}\n",
    "hearts = {\"Ah\",\"2h\",\"3h\",\"4h\",\"5h\",\"6h\",\"7h\",\"8h\",\"9h\",\"10h\",\"Jh\",\"Qh\",\"Kh\"}\n",
    "diamonds = {\"Ad\",\"2d\",\"3d\",\"4d\",\"5d\",\"6d\",\"7d\",\"8d\",\"9d\",\"10d\",\"Jd\",\"Qd\",\"Kd\"}\n",
    "spades = {\"As\",\"2s\",\"3s\",\"4s\",\"5s\",\"6s\",\"7s\",\"8s\",\"9s\",\"10s\",\"Js\",\"Qs\",\"Ks\"}\n",
    "\n",
    "type(spades)"
   ]
  },
  {
   "cell_type": "code",
   "execution_count": 1,
   "metadata": {},
   "outputs": [],
   "source": [
    "import numpy as np\n",
    "import itertools"
   ]
  },
  {
   "cell_type": "markdown",
   "metadata": {},
   "source": [
    "black = clubs.union(spades)\n",
    "red = hearts.union(diamonds)\n",
    "pack = black.union(red)\n",
    "len(pack)"
   ]
  },
  {
   "cell_type": "code",
   "execution_count": 2,
   "metadata": {},
   "outputs": [],
   "source": [
    "deck = list(itertools.product(range(1,14),['Spade','Heart','Diamond','Club']))\n"
   ]
  },
  {
   "cell_type": "code",
   "execution_count": 3,
   "metadata": {},
   "outputs": [
    {
     "data": {
      "text/plain": [
       "[(1, 'Spade'),\n",
       " (1, 'Heart'),\n",
       " (1, 'Diamond'),\n",
       " (1, 'Club'),\n",
       " (2, 'Spade'),\n",
       " (2, 'Heart'),\n",
       " (2, 'Diamond')]"
      ]
     },
     "execution_count": 3,
     "metadata": {},
     "output_type": "execute_result"
    }
   ],
   "source": [
    "deck[0:7]"
   ]
  },
  {
   "cell_type": "code",
   "execution_count": 4,
   "metadata": {},
   "outputs": [
    {
     "data": {
      "text/plain": [
       "array([['1', 'Spade'],\n",
       "       ['1', 'Heart'],\n",
       "       ['1', 'Diamond'],\n",
       "       ['1', 'Club'],\n",
       "       ['2', 'Spade'],\n",
       "       ['2', 'Heart'],\n",
       "       ['2', 'Diamond']], dtype='<U21')"
      ]
     },
     "execution_count": 4,
     "metadata": {},
     "output_type": "execute_result"
    }
   ],
   "source": [
    "pack = np.asarray(deck)\n",
    "pack[0:7]"
   ]
  },
  {
   "cell_type": "code",
   "execution_count": 5,
   "metadata": {},
   "outputs": [
    {
     "data": {
      "text/plain": [
       "numpy.ndarray"
      ]
     },
     "execution_count": 5,
     "metadata": {},
     "output_type": "execute_result"
    }
   ],
   "source": [
    "type(pack)"
   ]
  },
  {
   "cell_type": "code",
   "execution_count": 6,
   "metadata": {},
   "outputs": [
    {
     "data": {
      "text/plain": [
       "(52, 2)"
      ]
     },
     "execution_count": 6,
     "metadata": {},
     "output_type": "execute_result"
    }
   ],
   "source": [
    "pack.shape"
   ]
  },
  {
   "cell_type": "code",
   "execution_count": 7,
   "metadata": {},
   "outputs": [
    {
     "data": {
      "text/plain": [
       "8"
      ]
     },
     "execution_count": 7,
     "metadata": {},
     "output_type": "execute_result"
    }
   ],
   "source": [
    "count = 0\n",
    "for item in pack:\n",
    "    if item[0] == '12' or item[0] == '13':\n",
    "        count += 1\n",
    "count"
   ]
  },
  {
   "cell_type": "code",
   "execution_count": 8,
   "metadata": {},
   "outputs": [
    {
     "data": {
      "text/plain": [
       "52"
      ]
     },
     "execution_count": 8,
     "metadata": {},
     "output_type": "execute_result"
    }
   ],
   "source": [
    "len(pack)"
   ]
  },
  {
   "cell_type": "code",
   "execution_count": 9,
   "metadata": {},
   "outputs": [
    {
     "data": {
      "text/plain": [
       "0.15384615384615385"
      ]
     },
     "execution_count": 9,
     "metadata": {},
     "output_type": "execute_result"
    }
   ],
   "source": [
    "8/52"
   ]
  },
  {
   "cell_type": "markdown",
   "metadata": {},
   "source": [
    "FINAL ANSWER Q1"
   ]
  },
  {
   "cell_type": "code",
   "execution_count": 10,
   "metadata": {},
   "outputs": [
    {
     "name": "stdout",
     "output_type": "stream",
     "text": [
      "There is approx. 15% probability that a King or Queen is drawn from the full pack\n"
     ]
    }
   ],
   "source": [
    "print('There is approx. {}% probability that a King or Queen is drawn from the full pack' .format(round((100/len(pack))*count)))"
   ]
  },
  {
   "cell_type": "markdown",
   "metadata": {},
   "source": [
    "Question 2: What is the probability of drawing an Ace followed by a club?"
   ]
  },
  {
   "cell_type": "code",
   "execution_count": 11,
   "metadata": {},
   "outputs": [
    {
     "data": {
      "text/plain": [
       "0.07692307692307693"
      ]
     },
     "execution_count": 11,
     "metadata": {},
     "output_type": "execute_result"
    }
   ],
   "source": [
    "#check = np.sum((sample_mf[:,4:]==['F','F']).all(axis=1))\n",
    "aces = np.sum(pack[:,:1]== '1')\n",
    "prob_aces = aces / len(pack)\n",
    "prob_aces"
   ]
  },
  {
   "cell_type": "markdown",
   "metadata": {},
   "source": [
    "The second card selection is dependent on the first as the picker may draw the ace of clubs reducing the \n",
    "number of clubs in the pack along with the overall pack size! We will investigate a more simplistic method to \n",
    "solve this dependent problem:"
   ]
  },
  {
   "cell_type": "code",
   "execution_count": 12,
   "metadata": {},
   "outputs": [],
   "source": [
    "from itertools import permutations "
   ]
  },
  {
   "cell_type": "code",
   "execution_count": 13,
   "metadata": {},
   "outputs": [
    {
     "data": {
      "text/plain": [
       "[((1, 'Spade'), (1, 'Diamond')),\n",
       " ((1, 'Spade'), (1, 'Club')),\n",
       " ((1, 'Spade'), (2, 'Spade')),\n",
       " ((1, 'Spade'), (2, 'Heart')),\n",
       " ((1, 'Spade'), (2, 'Diamond')),\n",
       " ((1, 'Spade'), (2, 'Club'))]"
      ]
     },
     "execution_count": 13,
     "metadata": {},
     "output_type": "execute_result"
    }
   ],
   "source": [
    "#create a list of tuples of tuples stored as variable of all the two card draw possibilities\n",
    "list_perms = list(itertools.permutations(deck, 2))\n",
    "list_perms[1:7]"
   ]
  },
  {
   "cell_type": "code",
   "execution_count": 14,
   "metadata": {},
   "outputs": [
    {
     "data": {
      "text/plain": [
       "2652"
      ]
     },
     "execution_count": 14,
     "metadata": {},
     "output_type": "execute_result"
    }
   ],
   "source": [
    "len(list_perms)"
   ]
  },
  {
   "cell_type": "code",
   "execution_count": 15,
   "metadata": {},
   "outputs": [
    {
     "data": {
      "text/plain": [
       "{<itertools.permutations at 0x10b0a3eb8>}"
      ]
     },
     "execution_count": 15,
     "metadata": {},
     "output_type": "execute_result"
    }
   ],
   "source": [
    "card_perms = set([(itertools.permutations(deck,2))])\n",
    "card_perms"
   ]
  },
  {
   "cell_type": "code",
   "execution_count": 16,
   "metadata": {},
   "outputs": [
    {
     "data": {
      "text/plain": [
       "1"
      ]
     },
     "execution_count": 16,
     "metadata": {},
     "output_type": "execute_result"
    }
   ],
   "source": [
    "ace_check = np.sum(list_perms[0][0][0] == 1)\n",
    "ace_check"
   ]
  },
  {
   "cell_type": "code",
   "execution_count": 17,
   "metadata": {},
   "outputs": [
    {
     "data": {
      "text/plain": [
       "51"
      ]
     },
     "execution_count": 17,
     "metadata": {},
     "output_type": "execute_result"
    }
   ],
   "source": [
    "counter = 0\n",
    "for item in list_perms:\n",
    "    if item[0][0] == 1 and item[1][1] == 'Club':\n",
    "        counter += 1\n",
    "counter\n",
    "    "
   ]
  },
  {
   "cell_type": "code",
   "execution_count": 18,
   "metadata": {},
   "outputs": [
    {
     "data": {
      "text/plain": [
       "1.92"
      ]
     },
     "execution_count": 18,
     "metadata": {},
     "output_type": "execute_result"
    }
   ],
   "source": [
    "prob_ace_club = round(100/len(list_perms)*counter,2)\n",
    "prob_ace_club"
   ]
  },
  {
   "cell_type": "markdown",
   "metadata": {},
   "source": [
    "FINAL ANSWER Q2"
   ]
  },
  {
   "cell_type": "code",
   "execution_count": 19,
   "metadata": {},
   "outputs": [
    {
     "name": "stdout",
     "output_type": "stream",
     "text": [
      "1.92% probability that an ace then a club is drawn from the full pack\n"
     ]
    }
   ],
   "source": [
    "print('{}% probability that an ace then a club is drawn from the full pack' .format(prob_ace_club))\n"
   ]
  },
  {
   "cell_type": "markdown",
   "metadata": {},
   "source": [
    "Question 3: What is the probability of drawing a red card, then a black card, then red card?"
   ]
  },
  {
   "cell_type": "code",
   "execution_count": 20,
   "metadata": {},
   "outputs": [
    {
     "data": {
      "text/plain": [
       "[((13, 'Club'), (12, 'Club'), (1, 'Spade')),\n",
       " ((13, 'Club'), (12, 'Club'), (1, 'Heart')),\n",
       " ((13, 'Club'), (12, 'Club'), (1, 'Diamond')),\n",
       " ((13, 'Club'), (12, 'Club'), (1, 'Club')),\n",
       " ((13, 'Club'), (12, 'Club'), (2, 'Spade')),\n",
       " ((13, 'Club'), (12, 'Club'), (2, 'Heart')),\n",
       " ((13, 'Club'), (12, 'Club'), (2, 'Diamond')),\n",
       " ((13, 'Club'), (12, 'Club'), (2, 'Club')),\n",
       " ((13, 'Club'), (12, 'Club'), (3, 'Spade')),\n",
       " ((13, 'Club'), (12, 'Club'), (3, 'Heart')),\n",
       " ((13, 'Club'), (12, 'Club'), (3, 'Diamond')),\n",
       " ((13, 'Club'), (12, 'Club'), (3, 'Club')),\n",
       " ((13, 'Club'), (12, 'Club'), (4, 'Spade')),\n",
       " ((13, 'Club'), (12, 'Club'), (4, 'Heart')),\n",
       " ((13, 'Club'), (12, 'Club'), (4, 'Diamond')),\n",
       " ((13, 'Club'), (12, 'Club'), (4, 'Club')),\n",
       " ((13, 'Club'), (12, 'Club'), (5, 'Spade')),\n",
       " ((13, 'Club'), (12, 'Club'), (5, 'Heart')),\n",
       " ((13, 'Club'), (12, 'Club'), (5, 'Diamond')),\n",
       " ((13, 'Club'), (12, 'Club'), (5, 'Club')),\n",
       " ((13, 'Club'), (12, 'Club'), (6, 'Spade')),\n",
       " ((13, 'Club'), (12, 'Club'), (6, 'Heart')),\n",
       " ((13, 'Club'), (12, 'Club'), (6, 'Diamond')),\n",
       " ((13, 'Club'), (12, 'Club'), (6, 'Club')),\n",
       " ((13, 'Club'), (12, 'Club'), (7, 'Spade')),\n",
       " ((13, 'Club'), (12, 'Club'), (7, 'Heart')),\n",
       " ((13, 'Club'), (12, 'Club'), (7, 'Diamond')),\n",
       " ((13, 'Club'), (12, 'Club'), (7, 'Club')),\n",
       " ((13, 'Club'), (12, 'Club'), (8, 'Spade')),\n",
       " ((13, 'Club'), (12, 'Club'), (8, 'Heart')),\n",
       " ((13, 'Club'), (12, 'Club'), (8, 'Diamond')),\n",
       " ((13, 'Club'), (12, 'Club'), (8, 'Club')),\n",
       " ((13, 'Club'), (12, 'Club'), (9, 'Spade')),\n",
       " ((13, 'Club'), (12, 'Club'), (9, 'Heart')),\n",
       " ((13, 'Club'), (12, 'Club'), (9, 'Diamond')),\n",
       " ((13, 'Club'), (12, 'Club'), (9, 'Club')),\n",
       " ((13, 'Club'), (12, 'Club'), (10, 'Spade')),\n",
       " ((13, 'Club'), (12, 'Club'), (10, 'Heart')),\n",
       " ((13, 'Club'), (12, 'Club'), (10, 'Diamond')),\n",
       " ((13, 'Club'), (12, 'Club'), (10, 'Club')),\n",
       " ((13, 'Club'), (12, 'Club'), (11, 'Spade')),\n",
       " ((13, 'Club'), (12, 'Club'), (11, 'Heart')),\n",
       " ((13, 'Club'), (12, 'Club'), (11, 'Diamond')),\n",
       " ((13, 'Club'), (12, 'Club'), (11, 'Club')),\n",
       " ((13, 'Club'), (12, 'Club'), (12, 'Spade')),\n",
       " ((13, 'Club'), (12, 'Club'), (12, 'Heart')),\n",
       " ((13, 'Club'), (12, 'Club'), (12, 'Diamond')),\n",
       " ((13, 'Club'), (12, 'Club'), (13, 'Spade')),\n",
       " ((13, 'Club'), (12, 'Club'), (13, 'Heart')),\n",
       " ((13, 'Club'), (12, 'Club'), (13, 'Diamond')),\n",
       " ((13, 'Club'), (13, 'Spade'), (1, 'Spade')),\n",
       " ((13, 'Club'), (13, 'Spade'), (1, 'Heart')),\n",
       " ((13, 'Club'), (13, 'Spade'), (1, 'Diamond')),\n",
       " ((13, 'Club'), (13, 'Spade'), (1, 'Club')),\n",
       " ((13, 'Club'), (13, 'Spade'), (2, 'Spade')),\n",
       " ((13, 'Club'), (13, 'Spade'), (2, 'Heart')),\n",
       " ((13, 'Club'), (13, 'Spade'), (2, 'Diamond')),\n",
       " ((13, 'Club'), (13, 'Spade'), (2, 'Club')),\n",
       " ((13, 'Club'), (13, 'Spade'), (3, 'Spade')),\n",
       " ((13, 'Club'), (13, 'Spade'), (3, 'Heart')),\n",
       " ((13, 'Club'), (13, 'Spade'), (3, 'Diamond')),\n",
       " ((13, 'Club'), (13, 'Spade'), (3, 'Club')),\n",
       " ((13, 'Club'), (13, 'Spade'), (4, 'Spade')),\n",
       " ((13, 'Club'), (13, 'Spade'), (4, 'Heart')),\n",
       " ((13, 'Club'), (13, 'Spade'), (4, 'Diamond')),\n",
       " ((13, 'Club'), (13, 'Spade'), (4, 'Club')),\n",
       " ((13, 'Club'), (13, 'Spade'), (5, 'Spade')),\n",
       " ((13, 'Club'), (13, 'Spade'), (5, 'Heart')),\n",
       " ((13, 'Club'), (13, 'Spade'), (5, 'Diamond')),\n",
       " ((13, 'Club'), (13, 'Spade'), (5, 'Club')),\n",
       " ((13, 'Club'), (13, 'Spade'), (6, 'Spade')),\n",
       " ((13, 'Club'), (13, 'Spade'), (6, 'Heart')),\n",
       " ((13, 'Club'), (13, 'Spade'), (6, 'Diamond')),\n",
       " ((13, 'Club'), (13, 'Spade'), (6, 'Club')),\n",
       " ((13, 'Club'), (13, 'Spade'), (7, 'Spade')),\n",
       " ((13, 'Club'), (13, 'Spade'), (7, 'Heart')),\n",
       " ((13, 'Club'), (13, 'Spade'), (7, 'Diamond')),\n",
       " ((13, 'Club'), (13, 'Spade'), (7, 'Club')),\n",
       " ((13, 'Club'), (13, 'Spade'), (8, 'Spade')),\n",
       " ((13, 'Club'), (13, 'Spade'), (8, 'Heart')),\n",
       " ((13, 'Club'), (13, 'Spade'), (8, 'Diamond')),\n",
       " ((13, 'Club'), (13, 'Spade'), (8, 'Club')),\n",
       " ((13, 'Club'), (13, 'Spade'), (9, 'Spade')),\n",
       " ((13, 'Club'), (13, 'Spade'), (9, 'Heart')),\n",
       " ((13, 'Club'), (13, 'Spade'), (9, 'Diamond')),\n",
       " ((13, 'Club'), (13, 'Spade'), (9, 'Club')),\n",
       " ((13, 'Club'), (13, 'Spade'), (10, 'Spade')),\n",
       " ((13, 'Club'), (13, 'Spade'), (10, 'Heart')),\n",
       " ((13, 'Club'), (13, 'Spade'), (10, 'Diamond')),\n",
       " ((13, 'Club'), (13, 'Spade'), (10, 'Club')),\n",
       " ((13, 'Club'), (13, 'Spade'), (11, 'Spade')),\n",
       " ((13, 'Club'), (13, 'Spade'), (11, 'Heart')),\n",
       " ((13, 'Club'), (13, 'Spade'), (11, 'Diamond')),\n",
       " ((13, 'Club'), (13, 'Spade'), (11, 'Club')),\n",
       " ((13, 'Club'), (13, 'Spade'), (12, 'Spade')),\n",
       " ((13, 'Club'), (13, 'Spade'), (12, 'Heart')),\n",
       " ((13, 'Club'), (13, 'Spade'), (12, 'Diamond')),\n",
       " ((13, 'Club'), (13, 'Spade'), (12, 'Club')),\n",
       " ((13, 'Club'), (13, 'Spade'), (13, 'Heart')),\n",
       " ((13, 'Club'), (13, 'Spade'), (13, 'Diamond')),\n",
       " ((13, 'Club'), (13, 'Heart'), (1, 'Spade')),\n",
       " ((13, 'Club'), (13, 'Heart'), (1, 'Heart')),\n",
       " ((13, 'Club'), (13, 'Heart'), (1, 'Diamond')),\n",
       " ((13, 'Club'), (13, 'Heart'), (1, 'Club')),\n",
       " ((13, 'Club'), (13, 'Heart'), (2, 'Spade')),\n",
       " ((13, 'Club'), (13, 'Heart'), (2, 'Heart')),\n",
       " ((13, 'Club'), (13, 'Heart'), (2, 'Diamond')),\n",
       " ((13, 'Club'), (13, 'Heart'), (2, 'Club')),\n",
       " ((13, 'Club'), (13, 'Heart'), (3, 'Spade')),\n",
       " ((13, 'Club'), (13, 'Heart'), (3, 'Heart')),\n",
       " ((13, 'Club'), (13, 'Heart'), (3, 'Diamond')),\n",
       " ((13, 'Club'), (13, 'Heart'), (3, 'Club')),\n",
       " ((13, 'Club'), (13, 'Heart'), (4, 'Spade')),\n",
       " ((13, 'Club'), (13, 'Heart'), (4, 'Heart')),\n",
       " ((13, 'Club'), (13, 'Heart'), (4, 'Diamond')),\n",
       " ((13, 'Club'), (13, 'Heart'), (4, 'Club')),\n",
       " ((13, 'Club'), (13, 'Heart'), (5, 'Spade')),\n",
       " ((13, 'Club'), (13, 'Heart'), (5, 'Heart')),\n",
       " ((13, 'Club'), (13, 'Heart'), (5, 'Diamond')),\n",
       " ((13, 'Club'), (13, 'Heart'), (5, 'Club')),\n",
       " ((13, 'Club'), (13, 'Heart'), (6, 'Spade')),\n",
       " ((13, 'Club'), (13, 'Heart'), (6, 'Heart')),\n",
       " ((13, 'Club'), (13, 'Heart'), (6, 'Diamond')),\n",
       " ((13, 'Club'), (13, 'Heart'), (6, 'Club')),\n",
       " ((13, 'Club'), (13, 'Heart'), (7, 'Spade')),\n",
       " ((13, 'Club'), (13, 'Heart'), (7, 'Heart')),\n",
       " ((13, 'Club'), (13, 'Heart'), (7, 'Diamond')),\n",
       " ((13, 'Club'), (13, 'Heart'), (7, 'Club')),\n",
       " ((13, 'Club'), (13, 'Heart'), (8, 'Spade')),\n",
       " ((13, 'Club'), (13, 'Heart'), (8, 'Heart')),\n",
       " ((13, 'Club'), (13, 'Heart'), (8, 'Diamond')),\n",
       " ((13, 'Club'), (13, 'Heart'), (8, 'Club')),\n",
       " ((13, 'Club'), (13, 'Heart'), (9, 'Spade')),\n",
       " ((13, 'Club'), (13, 'Heart'), (9, 'Heart')),\n",
       " ((13, 'Club'), (13, 'Heart'), (9, 'Diamond')),\n",
       " ((13, 'Club'), (13, 'Heart'), (9, 'Club')),\n",
       " ((13, 'Club'), (13, 'Heart'), (10, 'Spade')),\n",
       " ((13, 'Club'), (13, 'Heart'), (10, 'Heart')),\n",
       " ((13, 'Club'), (13, 'Heart'), (10, 'Diamond')),\n",
       " ((13, 'Club'), (13, 'Heart'), (10, 'Club')),\n",
       " ((13, 'Club'), (13, 'Heart'), (11, 'Spade')),\n",
       " ((13, 'Club'), (13, 'Heart'), (11, 'Heart')),\n",
       " ((13, 'Club'), (13, 'Heart'), (11, 'Diamond')),\n",
       " ((13, 'Club'), (13, 'Heart'), (11, 'Club')),\n",
       " ((13, 'Club'), (13, 'Heart'), (12, 'Spade')),\n",
       " ((13, 'Club'), (13, 'Heart'), (12, 'Heart')),\n",
       " ((13, 'Club'), (13, 'Heart'), (12, 'Diamond')),\n",
       " ((13, 'Club'), (13, 'Heart'), (12, 'Club')),\n",
       " ((13, 'Club'), (13, 'Heart'), (13, 'Spade')),\n",
       " ((13, 'Club'), (13, 'Heart'), (13, 'Diamond')),\n",
       " ((13, 'Club'), (13, 'Diamond'), (1, 'Spade')),\n",
       " ((13, 'Club'), (13, 'Diamond'), (1, 'Heart')),\n",
       " ((13, 'Club'), (13, 'Diamond'), (1, 'Diamond')),\n",
       " ((13, 'Club'), (13, 'Diamond'), (1, 'Club')),\n",
       " ((13, 'Club'), (13, 'Diamond'), (2, 'Spade')),\n",
       " ((13, 'Club'), (13, 'Diamond'), (2, 'Heart')),\n",
       " ((13, 'Club'), (13, 'Diamond'), (2, 'Diamond')),\n",
       " ((13, 'Club'), (13, 'Diamond'), (2, 'Club')),\n",
       " ((13, 'Club'), (13, 'Diamond'), (3, 'Spade')),\n",
       " ((13, 'Club'), (13, 'Diamond'), (3, 'Heart')),\n",
       " ((13, 'Club'), (13, 'Diamond'), (3, 'Diamond')),\n",
       " ((13, 'Club'), (13, 'Diamond'), (3, 'Club')),\n",
       " ((13, 'Club'), (13, 'Diamond'), (4, 'Spade')),\n",
       " ((13, 'Club'), (13, 'Diamond'), (4, 'Heart')),\n",
       " ((13, 'Club'), (13, 'Diamond'), (4, 'Diamond')),\n",
       " ((13, 'Club'), (13, 'Diamond'), (4, 'Club')),\n",
       " ((13, 'Club'), (13, 'Diamond'), (5, 'Spade')),\n",
       " ((13, 'Club'), (13, 'Diamond'), (5, 'Heart')),\n",
       " ((13, 'Club'), (13, 'Diamond'), (5, 'Diamond')),\n",
       " ((13, 'Club'), (13, 'Diamond'), (5, 'Club')),\n",
       " ((13, 'Club'), (13, 'Diamond'), (6, 'Spade')),\n",
       " ((13, 'Club'), (13, 'Diamond'), (6, 'Heart')),\n",
       " ((13, 'Club'), (13, 'Diamond'), (6, 'Diamond')),\n",
       " ((13, 'Club'), (13, 'Diamond'), (6, 'Club')),\n",
       " ((13, 'Club'), (13, 'Diamond'), (7, 'Spade')),\n",
       " ((13, 'Club'), (13, 'Diamond'), (7, 'Heart')),\n",
       " ((13, 'Club'), (13, 'Diamond'), (7, 'Diamond')),\n",
       " ((13, 'Club'), (13, 'Diamond'), (7, 'Club')),\n",
       " ((13, 'Club'), (13, 'Diamond'), (8, 'Spade')),\n",
       " ((13, 'Club'), (13, 'Diamond'), (8, 'Heart')),\n",
       " ((13, 'Club'), (13, 'Diamond'), (8, 'Diamond')),\n",
       " ((13, 'Club'), (13, 'Diamond'), (8, 'Club')),\n",
       " ((13, 'Club'), (13, 'Diamond'), (9, 'Spade')),\n",
       " ((13, 'Club'), (13, 'Diamond'), (9, 'Heart')),\n",
       " ((13, 'Club'), (13, 'Diamond'), (9, 'Diamond')),\n",
       " ((13, 'Club'), (13, 'Diamond'), (9, 'Club')),\n",
       " ((13, 'Club'), (13, 'Diamond'), (10, 'Spade')),\n",
       " ((13, 'Club'), (13, 'Diamond'), (10, 'Heart')),\n",
       " ((13, 'Club'), (13, 'Diamond'), (10, 'Diamond')),\n",
       " ((13, 'Club'), (13, 'Diamond'), (10, 'Club')),\n",
       " ((13, 'Club'), (13, 'Diamond'), (11, 'Spade')),\n",
       " ((13, 'Club'), (13, 'Diamond'), (11, 'Heart')),\n",
       " ((13, 'Club'), (13, 'Diamond'), (11, 'Diamond')),\n",
       " ((13, 'Club'), (13, 'Diamond'), (11, 'Club')),\n",
       " ((13, 'Club'), (13, 'Diamond'), (12, 'Spade')),\n",
       " ((13, 'Club'), (13, 'Diamond'), (12, 'Heart')),\n",
       " ((13, 'Club'), (13, 'Diamond'), (12, 'Diamond')),\n",
       " ((13, 'Club'), (13, 'Diamond'), (12, 'Club')),\n",
       " ((13, 'Club'), (13, 'Diamond'), (13, 'Spade'))]"
      ]
     },
     "execution_count": 20,
     "metadata": {},
     "output_type": "execute_result"
    }
   ],
   "source": [
    "#Creat a list of tuples of tuples returning every three card draw possibility \n",
    "draw_three = list(itertools.permutations(deck, 3))\n",
    "draw_three[132400:132599]"
   ]
  },
  {
   "cell_type": "code",
   "execution_count": 21,
   "metadata": {},
   "outputs": [
    {
     "data": {
      "text/plain": [
       "132600"
      ]
     },
     "execution_count": 21,
     "metadata": {},
     "output_type": "execute_result"
    }
   ],
   "source": [
    "len(draw_three)"
   ]
  },
  {
   "cell_type": "code",
   "execution_count": 22,
   "metadata": {},
   "outputs": [
    {
     "data": {
      "text/plain": [
       "['Diamond', 'Heart']"
      ]
     },
     "execution_count": 22,
     "metadata": {},
     "output_type": "execute_result"
    }
   ],
   "source": [
    "#An attempt to simplify how we search for different coloured cards\n",
    "red_card = ['Diamond','Heart']\n",
    "red_card"
   ]
  },
  {
   "cell_type": "code",
   "execution_count": 23,
   "metadata": {},
   "outputs": [
    {
     "data": {
      "text/plain": [
       "16900"
      ]
     },
     "execution_count": 23,
     "metadata": {},
     "output_type": "execute_result"
    }
   ],
   "source": [
    "#We now check for the required conditional and each true outcome to a counter to add up the number of successful \n",
    "#three card draws\n",
    "\n",
    "three_count = 0\n",
    "for draw in draw_three:\n",
    "    if draw[0][1] == 'Diamond' or draw[0][1] == 'Heart':\n",
    "        if draw[1][1] == 'Club' or draw[1][1] == 'Spade':\n",
    "            if draw[2][1] == 'Diamond' or draw[2][1] == 'Heart':\n",
    "                three_count +=1\n",
    "three_count"
   ]
  },
  {
   "cell_type": "code",
   "execution_count": 24,
   "metadata": {},
   "outputs": [
    {
     "data": {
      "text/plain": [
       "12.75"
      ]
     },
     "execution_count": 24,
     "metadata": {},
     "output_type": "execute_result"
    }
   ],
   "source": [
    "prob_rbr = round((100/len(draw_three))*three_count,2)\n",
    "prob_rbr\n"
   ]
  },
  {
   "cell_type": "markdown",
   "metadata": {},
   "source": [
    "FINAL ANSWER Q3"
   ]
  },
  {
   "cell_type": "code",
   "execution_count": 25,
   "metadata": {},
   "outputs": [
    {
     "name": "stdout",
     "output_type": "stream",
     "text": [
      "12.75% probability that a red card then a black then a red is drawn from the full pack\n"
     ]
    }
   ],
   "source": [
    "print('{}% probability that a red card then a black then a red is drawn from the full pack' .format(prob_rbr))"
   ]
  },
  {
   "cell_type": "markdown",
   "metadata": {},
   "source": [
    "Question 4: How many possible 5-card combinations can be formed with this deck of 52 cards"
   ]
  },
  {
   "cell_type": "code",
   "execution_count": 1,
   "metadata": {},
   "outputs": [],
   "source": [
    "from math import factorial"
   ]
  },
  {
   "cell_type": "markdown",
   "metadata": {},
   "source": [
    "This one crashed the kernel trying to produce a variable holding the list of all combinations. So we have used the\n",
    "factorial method given in the lecture $\\frac{n!}{(n-r)!r!}$."
   ]
  },
  {
   "cell_type": "code",
   "execution_count": 2,
   "metadata": {},
   "outputs": [
    {
     "data": {
      "text/plain": [
       "2598960.0"
      ]
     },
     "execution_count": 2,
     "metadata": {},
     "output_type": "execute_result"
    }
   ],
   "source": [
    "factorial(52) / (factorial(5) * factorial(47))"
   ]
  },
  {
   "cell_type": "code",
   "execution_count": null,
   "metadata": {},
   "outputs": [],
   "source": []
  }
 ],
 "metadata": {
  "kernelspec": {
   "display_name": "Python 3",
   "language": "python",
   "name": "python3"
  },
  "language_info": {
   "codemirror_mode": {
    "name": "ipython",
    "version": 3
   },
   "file_extension": ".py",
   "mimetype": "text/x-python",
   "name": "python",
   "nbconvert_exporter": "python",
   "pygments_lexer": "ipython3",
   "version": "3.6.6"
  }
 },
 "nbformat": 4,
 "nbformat_minor": 2
}
