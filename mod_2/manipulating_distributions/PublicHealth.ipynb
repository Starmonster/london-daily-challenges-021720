{
 "cells": [
  {
   "cell_type": "markdown",
   "metadata": {},
   "source": [
    "# Manipulating Distributions"
   ]
  },
  {
   "cell_type": "markdown",
   "metadata": {},
   "source": [
    "One of the most helpful skills that you will eventually develop as a data scientist is the ability to generate synthetic data in order to run simulations and create data visualisations that show what you think your data is going to look like before you actually expend the resources in order to be able to run the analysis. \n",
    "\n",
    "Getting to this point is still a bit of a ways away for us, but we can start today by taking baby steps forward.\n",
    "\n",
    "For today's **daily challenge** we're going to apply a bit of what we learned this week with Normal Distributions and have a bit of a throwback to the land of Data Viz with a topical challenge. \n",
    "\n",
    "Today we are asking you to try to re-create the \"Flattening the Curve\" visualisation that depicts the importance of taking precautionary measures to slow the spread of a virus or disease.\n",
    "\n",
    "Below is a great example of a simple data visualisation that tells a story with only a few ideas but is very important for public health understanding. \n",
    "\n",
    "* [Original Link Here](https://www.vox.com/2020/3/10/21171481/coronavirus-us-cases-quarantine-cancellation)\n",
    "\n",
    "![alt text](image.png \"Flattening the Curve\")"
   ]
  },
  {
   "cell_type": "markdown",
   "metadata": {},
   "source": [
    "Today we want you to re-create this chart using any combination of matplotlib or seaborn. At a minimum, you should create both distributions and have your axes labeled with a clear title. If you want to go further, you can try to annotate the chart with the lines and arrows provided and match the colors. \n",
    "\n",
    "To do this you need to...\n",
    "\n",
    "* Generate some synthetic data with numpy\n",
    "* Change the parameters of the distributions to approximate the correct shapes.\n",
    "* Plot both distributions on the same plot\n",
    "* Annotate the graph accordingly.\n",
    "\n",
    "Try to make your chart as close as you can to the one above so that it could be included in a publication!\n",
    "\n",
    "Best of luck! "
   ]
  },
  {
   "cell_type": "code",
   "execution_count": 2,
   "metadata": {},
   "outputs": [],
   "source": [
    "import numpy as np\n",
    "from scipy import stats\n",
    "import math\n",
    "import seaborn as sns\n",
    "import matplotlib.pyplot as plt"
   ]
  },
  {
   "cell_type": "code",
   "execution_count": 34,
   "metadata": {},
   "outputs": [],
   "source": [
    "#mu, sigma = 0, 10"
   ]
  },
  {
   "cell_type": "code",
   "execution_count": 33,
   "metadata": {},
   "outputs": [],
   "source": [
    "#no_pro_s = np.random.normal(mu, sigma, 10000)\n",
    "#no_pro_s[0:10]"
   ]
  },
  {
   "cell_type": "code",
   "execution_count": 32,
   "metadata": {},
   "outputs": [],
   "source": [
    "#sns.set(color_codes=True)\n",
    "#sns.set(rc={'figure.figsize':(14,8)})\n",
    "#sns.distplot(no_pro_s, hist=False)\n",
    "#sns.set_style(\"white\")\n",
    "#sns.kdeplot(pro_s, bw=2, label=\"bw: 2\")"
   ]
  },
  {
   "cell_type": "code",
   "execution_count": 14,
   "metadata": {},
   "outputs": [],
   "source": [
    "#rev_mu = 75\n",
    "#pro_s = np.random.normal(rev_mu, sigma, 10000)"
   ]
  },
  {
   "cell_type": "code",
   "execution_count": 73,
   "metadata": {},
   "outputs": [],
   "source": [
    "#mu, sigma = 0, 10\n",
    "#mu1, sigma = 50, 20\n"
   ]
  },
  {
   "cell_type": "code",
   "execution_count": 35,
   "metadata": {
    "scrolled": true
   },
   "outputs": [],
   "source": [
    "#sns.kdeplot(no_pro_s, bw=80, shade=True)\n",
    "#sns.set_style(\"white\")\n",
    "\n",
    "#sns.kdeplot(pro_s, bw=.2, label=\"bw: 0.2\")\n",
    "#sns.kdeplot(pro_s, bw=200, label=\"bw: 2\", shade=True)\n",
    "#plt.legend();"
   ]
  },
  {
   "cell_type": "code",
   "execution_count": 44,
   "metadata": {},
   "outputs": [],
   "source": [
    "#sns.distplot(no_pro_s, bins=20, kde=True, hist = False)"
   ]
  },
  {
   "cell_type": "code",
   "execution_count": 3,
   "metadata": {},
   "outputs": [],
   "source": [
    "mu, sigma = 0, 1\n",
    "mu1, sigma1 = 1.5, 3\n",
    "no_pro_s = np.random.normal(mu, sigma, 100000)\n",
    "pro_s = np.random.normal(mu1, sigma1, 100000)"
   ]
  },
  {
   "cell_type": "code",
   "execution_count": 9,
   "metadata": {},
   "outputs": [
    {
     "name": "stderr",
     "output_type": "stream",
     "text": [
      "/opt/anaconda3/envs/learn-env/lib/python3.6/site-packages/scipy/stats/stats.py:1713: FutureWarning: Using a non-tuple sequence for multidimensional indexing is deprecated; use `arr[tuple(seq)]` instead of `arr[seq]`. In the future this will be interpreted as an array index, `arr[np.array(seq)]`, which will result either in an error or a different result.\n",
      "  return np.add.reduce(sorted[indexer] * weights, axis=axis) / sumval\n"
     ]
    },
    {
     "data": {
      "text/plain": [
       "[None, None]"
      ]
     },
     "execution_count": 9,
     "metadata": {},
     "output_type": "execute_result"
    },
    {
     "data": {
      "image/png": "[encoded data removed]",
      "text/plain": [
       "<Figure size 432x288 with 1 Axes>"
      ]
     },
     "metadata": {
      "needs_background": "light"
     },
     "output_type": "display_data"
    }
   ],
   "source": [
    "g = sns.distplot(no_pro_s, kde_kws={\"shade\":True}, hist = False, color=\"coral\")\n",
    "h = sns.distplot(pro_s, kde_kws={\"shade\":True}, hist=False, color=\"darkgrey\")\n",
    "#plt.annotate(0,0.1)\n",
    "plt.setp(g.lines, alpha=0)"
   ]
  },
  {
   "cell_type": "code",
   "execution_count": null,
   "metadata": {},
   "outputs": [],
   "source": []
  },
  {
   "cell_type": "code",
   "execution_count": null,
   "metadata": {},
   "outputs": [],
   "source": []
  }
 ],
 "metadata": {
  "kernelspec": {
   "display_name": "Python 3",
   "language": "python",
   "name": "python3"
  },
  "language_info": {
   "codemirror_mode": {
    "name": "ipython",
    "version": 3
   },
   "file_extension": ".py",
   "mimetype": "text/x-python",
   "name": "python",
   "nbconvert_exporter": "python",
   "pygments_lexer": "ipython3",
   "version": "3.6.6"
  }
 },
 "nbformat": 4,
 "nbformat_minor": 2
}
